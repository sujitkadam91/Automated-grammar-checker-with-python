{
  "nbformat": 4,
  "nbformat_minor": 0,
  "metadata": {
    "colab": {
      "name": "Automated grammar checker with python",
      "provenance": [],
      "authorship_tag": "ABX9TyPOxH6lpdJujRIvMt0aEPge",
      "include_colab_link": true
    },
    "kernelspec": {
      "name": "python3",
      "display_name": "Python 3"
    },
    "language_info": {
      "name": "python"
    }
  },
  "cells": [
    {
      "cell_type": "markdown",
      "metadata": {
        "id": "view-in-github",
        "colab_type": "text"
      },
      "source": [
        "<a href=\"https://colab.research.google.com/github/sujitkadam91/Automated-grammar-checker-with-python/blob/main/Automated_grammar_checker_with_python.ipynb\" target=\"_parent\"><img src=\"https://colab.research.google.com/assets/colab-badge.svg\" alt=\"Open In Colab\"/></a>"
      ]
    },
    {
      "cell_type": "markdown",
      "metadata": {
        "id": "6u3Me2Ebsl85"
      },
      "source": [
        "### Automated grammar checker with python\n",
        "\n",
        "Gramformer a framework for detecting, highlighting and correcting grammatical errors on natural language text. It's like Grammarly but it's free!"
      ]
    },
    {
      "cell_type": "code",
      "metadata": {
        "id": "Z78GeCpism1A"
      },
      "source": [
        "from gramformer import Gramformer\n",
        "import torch"
      ],
      "execution_count": null,
      "outputs": []
    },
    {
      "cell_type": "code",
      "metadata": {
        "colab": {
          "base_uri": "https://localhost:8080/"
        },
        "id": "ZYx50_S0q9JU",
        "outputId": "03b77627-4065-46a5-a46f-e1e4d1df3885"
      },
      "source": [
        "from gramformer import Gramformer\n",
        "import torch\n",
        "\n",
        "def set_seed(seed):\n",
        "  torch.manual_seed(seed)\n",
        "  if torch.cuda.is_available():\n",
        "    torch.cuda.manual_seed_all(seed)\n",
        "\n",
        "set_seed(1212)\n",
        "\n",
        "\n",
        "gf = Gramformer(models = 2, use_gpu=False) # 0=detector, 1=highlighter, 2=corrector, 3=all \n",
        "\n",
        "influent_sentences = [\n",
        "    \"My mothers cabin is next to his' cabin.\",\n",
        "    \"Its a cold day for October.\",\n",
        "    \"This recipes is good for beginning chefs.\",\n",
        "    \"Sharon stayed home from school the other day. Because she was sick.\"\n",
        "\n",
        "]   \n",
        "\n",
        "for influent_sentence in influent_sentences:\n",
        "    corrected_sentence = gf.correct(influent_sentence)\n",
        "    print(\"[Input] \", influent_sentence)\n",
        "    print(\"[Correction] \",corrected_sentence[0])\n",
        "    print(\"-\" *100)\n"
      ],
      "execution_count": 13,
      "outputs": [
        {
          "output_type": "stream",
          "text": [
            "[Gramformer] Grammar error correction model loaded..\n",
            "[Input]  My mothers cabin is next to his' cabin.\n",
            "[Correction]  My mother's cabin is next to his's.\n",
            "----------------------------------------------------------------------------------------------------\n",
            "[Input]  Its a cold day for October.\n",
            "[Correction]  It's a cold day in October.\n",
            "----------------------------------------------------------------------------------------------------\n",
            "[Input]  This recipes is good for beginning chefs.\n",
            "[Correction]  These recipes are good for beginning chefs.\n",
            "----------------------------------------------------------------------------------------------------\n",
            "[Input]  Sharon stayed home from school the other day. Because she was sick.\n",
            "[Correction]  Sharon stayed home from school the other day because she was sick.\n",
            "----------------------------------------------------------------------------------------------------\n"
          ],
          "name": "stdout"
        }
      ]
    },
    {
      "cell_type": "code",
      "metadata": {
        "id": "3yZ8SuNfq9LP"
      },
      "source": [
        ""
      ],
      "execution_count": null,
      "outputs": []
    }
  ]
}